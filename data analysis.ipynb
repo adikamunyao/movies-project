{
 "cells": [
  {
   "cell_type": "markdown",
   "metadata": {},
   "source": [
    "# Film production."
   ]
  },
  {
   "cell_type": "markdown",
   "metadata": {},
   "source": [
    "# 1.0 Introduction"
   ]
  },
  {
   "cell_type": "markdown",
   "metadata": {},
   "source": [
    "## 1.1 Business Understanding\n",
    "\n",
    "One of the most well-known genres of art, film production has millions of spectators worldwide. There are many ways that movies can be communicated to viewers as a result of the development of various films genres over time.\n",
    "\n",
    "Are budgets and box office grosses connected?\n",
    "\n",
    "\n",
    "After observing that all the big companies were producing original video content, Microsoft made the decision to capitalize on the rising popularity of films. It is my duty to research the categories of movies that are doing the best at the box office and to translate findings into useful advice. I intend to conduct studies and then use the results to develop data-driven conclusions that will help my client."
   ]
  },
  {
   "cell_type": "markdown",
   "metadata": {},
   "source": [
    "## 1.2 Data Understanding\n",
    "\n",
    "The dataset for this project was compiled from several sources. There are five movie datasets from:\n",
    "* Box Office Mojo data\n",
    "* IMDB  data  \n",
    "* popular movies data\n",
    "* top rated movies data\n",
    "\n",
    "For this project, perfomance of a movie will be based on the return on investment (ROI). The formulae used to calculate ROI is: (collection from box office)-(the budget cost). This will be used to classify if the movie perfomed well or not.\n",
    "\n",
    "The data sets had other columns which were dropped and the analysis will we concentarded on mainly,rating,title,genre,runtime and genre. The first rows to be dropped were those that had any missin value in the revenue column since they could not be classified based on ROI.\n",
    "\n",
    "definitions of terms used during the eda process"
   ]
  },
  {
   "cell_type": "markdown",
   "metadata": {},
   "source": [
    "# 2.0 Data Preparation Process"
   ]
  },
  {
   "cell_type": "markdown",
   "metadata": {},
   "source": [
    "## 2.1 Loading Libraries"
   ]
  },
  {
   "cell_type": "code",
   "execution_count": null,
   "metadata": {},
   "outputs": [],
   "source": [
    "#pip install WordCloud"
   ]
  },
  {
   "cell_type": "code",
   "execution_count": null,
   "metadata": {},
   "outputs": [],
   "source": [
    "# Importing libraries\n",
    "import pandas as pd\n",
    "import numpy as np\n",
    "\n",
    "import sqlite3\n",
    "\n",
    "from matplotlib import pyplot as plt\n",
    "import seaborn as sns\n",
    "%matplotlib inline\n",
    "from wordcloud import WordCloud \n",
    "\n",
    "# Read sqlite query results into a pandas DataFrame\n",
    "conn = sqlite3.Connection(\"Data/im.db\")"
   ]
  },
  {
   "cell_type": "markdown",
   "metadata": {},
   "source": [
    "## 2.2 Loading datasets"
   ]
  },
  {
   "cell_type": "code",
   "execution_count": null,
   "metadata": {},
   "outputs": [],
   "source": [
    "# Loading of the data sets.\n",
    "  \n",
    "#box office gross dataset\n",
    "box_office_df = pd.read_csv('Data/bom.movie_gross.csv.gz')\n",
    "\n",
    "#Teddy Newton movie budgets dataset\n",
    "movie_budgets_df = pd.read_csv('Data/tn.movie_budgets.csv.gz')\n",
    "\n",
    "#the movie data base dataset\n",
    "tmdb_df = pd.read_csv('Data/tmdb.movies.csv.gz')\n",
    "\n",
    "#Rotten Tomatoes reviews dataset\n",
    "rt_reviews_df = pd.read_csv('Data/rt.reviews.tsv.gz', sep='\\t', encoding = 'unicode_escape')\n",
    "\n",
    "#Rotten Tomatoes movie info dataset\n",
    "rt_movie_info_df = pd.read_csv('Data/rt.movie_info.tsv.gz', sep='\\t', encoding = 'unicode_escape')\n"
   ]
  },
  {
   "cell_type": "code",
   "execution_count": null,
   "metadata": {},
   "outputs": [],
   "source": [
    " #Read sqlite query results into a pandas DataFrame\n",
    "#joining the two tables using the movie_id key\n",
    "\n",
    "joint_query = \"\"\"\n",
    "SELECT *\n",
    "FROM movie_basics\n",
    "JOIN movie_ratings USING (movie_id)\n",
    ";\n",
    "\"\"\"\n",
    "joint_query = pd.read_sql(joint_query, conn)\n",
    "joint_query.tail(3)"
   ]
  },
  {
   "cell_type": "markdown",
   "metadata": {},
   "source": [
    "# 3.0 Data Cleaning"
   ]
  },
  {
   "cell_type": "markdown",
   "metadata": {},
   "source": [
    "### 3.0.1 combining of the data sets to a final data set"
   ]
  },
  {
   "cell_type": "code",
   "execution_count": null,
   "metadata": {},
   "outputs": [],
   "source": [
    "#the data sets were all combied on common keys before cleaning of the data\n",
    "\n",
    "joint_query.dropna(inplace = True)\n",
    "\n",
    "box_office_df.dropna(inplace = True)\n",
    "\n",
    "box_office_df.rename(columns = {'title':'original_title'}, inplace = True)\n",
    "\n",
    "combined_data_1 = pd.merge(joint_query, box_office_df, how='inner', on='original_title')\n",
    "\n",
    "movie_budgets_df.dropna(inplace = True)\n",
    "\n",
    "movie_budgets_df.rename(columns = {'movie':'original_title'}, inplace = True)\n",
    " \n",
    "# Find the columns that aren't in the first DataFrame\n",
    "different_cols = combined_data_1.columns.difference(movie_budgets_df.columns)\n",
    " \n",
    "# Filter out the columns that are different.\n",
    "data3 = combined_data_1[different_cols]\n",
    " \n",
    "# Merge the DataFrames\n",
    "data = pd.merge(movie_budgets_df, data3, left_index=True,\n",
    "                     right_index=True, how='inner')\n",
    "data.shape"
   ]
  },
  {
   "cell_type": "code",
   "execution_count": null,
   "metadata": {},
   "outputs": [],
   "source": [
    "data.head(3)"
   ]
  },
  {
   "cell_type": "markdown",
   "metadata": {},
   "source": [
    "### 3.1 cleaning of the final dataset"
   ]
  },
  {
   "cell_type": "markdown",
   "metadata": {},
   "source": [
    "#### 3.1.0 fixing structural issues\n",
    "removal of the **$** from production_budget, domestic_gross and worldwide_gross\n"
   ]
  },
  {
   "cell_type": "code",
   "execution_count": null,
   "metadata": {},
   "outputs": [],
   "source": [
    "final_data['production_budget'] = final_data['production_budget'].str.replace('[\\$\\,]','',regex=True)\n",
    "final_data['domestic_gross'] = final_data['domestic_gross'].str.replace('[\\$\\,]','',regex=True)\n",
    "final_data['worldwide_gross'] = final_data['worldwide_gross'].str.replace('[\\$\\,]','',regex=True)\n"
   ]
  },
  {
   "cell_type": "markdown",
   "metadata": {},
   "source": [
    "#### 3.1.1 changing data types \n",
    "production_budget, domestic_gross and worldwide_gross"
   ]
  },
  {
   "cell_type": "code",
   "execution_count": null,
   "metadata": {},
   "outputs": [],
   "source": [
    "final_data['production_budget'] = pd.to_numeric(final_data['production_budget']) \n",
    "final_data['domestic_gross'] = pd.to_numeric(final_data['domestic_gross'])\n",
    "final_data['worldwide_gross'] = pd.to_numeric(final_data['worldwide_gross'])\n",
    "\n",
    "final_data.dtypes"
   ]
  },
  {
   "cell_type": "code",
   "execution_count": null,
   "metadata": {},
   "outputs": [],
   "source": [
    "#final_data.drop('genre_count', axis=1, inplace=True)"
   ]
  },
  {
   "cell_type": "markdown",
   "metadata": {},
   "source": [
    "### data after cleaning"
   ]
  },
  {
   "cell_type": "code",
   "execution_count": null,
   "metadata": {},
   "outputs": [],
   "source": [
    "final_data.shape"
   ]
  },
  {
   "cell_type": "code",
   "execution_count": null,
   "metadata": {
    "scrolled": true
   },
   "outputs": [],
   "source": [
    "final_data.info()"
   ]
  },
  {
   "cell_type": "markdown",
   "metadata": {},
   "source": [
    "## 4.0 Exploratory Data Analysis"
   ]
  },
  {
   "cell_type": "markdown",
   "metadata": {},
   "source": [
    "### 4.0.1 Profit Calculation\n",
    "\n",
    "I now want to discuss the relationship between a movie's budget and how much it earns at the box office. I'll focus on the **Domestic gross**, which includes all ticket sales revenue from US and Canadian theaters.\n",
    "\n",
    "I'll use the Pearson correlation coefficient to measure the linear correlation   between the production  budget and box office domestic gross.\n"
   ]
  },
  {
   "cell_type": "markdown",
   "metadata": {},
   "source": [
    "This result indicates a correlation of **0.6** between production budget and the domestic gross.\n",
    "This implies a **moderate** strength of relationship."
   ]
  },
  {
   "cell_type": "code",
   "execution_count": null,
   "metadata": {},
   "outputs": [],
   "source": [
    "final_data['domestic_profit'] = final_data['domestic_gross'] - final_data['production_budget']\n",
    "correlation_df = final_data.iloc[:, [6,2,3,4,10]].head(13)\n",
    "correlation = final_data.corr()\n",
    "plt.figure(figsize=(15,5))\n",
    "sns.heatmap(correlation, xticklabels = correlation.columns,\n",
    "            yticklabels = correlation.columns,\n",
    "            cmap = 'coolwarm', annot = True);\n",
    "correlation"
   ]
  },
  {
   "cell_type": "markdown",
   "metadata": {},
   "source": [
    "###  4.0.2 Genre Analysis\n",
    "\n",
    "#### How are genres changing over time?\n",
    "\n",
    "I've analyzed genre ties in this section. Because most of the movies in my datasets fit into more than one genre,it would be interesting to learn how the different types are related and perhaps check on how they affect the popularity of the movies compared against number votes.\n"
   ]
  },
  {
   "cell_type": "code",
   "execution_count": null,
   "metadata": {},
   "outputs": [],
   "source": [
    "final_data.sort_values(by='release_date', ascending=True)"
   ]
  },
  {
   "cell_type": "code",
   "execution_count": null,
   "metadata": {},
   "outputs": [],
   "source": [
    "genre_frequncy = dict(final_data['genres'].str.split(',', expand=True).stack().value_counts())"
   ]
  },
  {
   "cell_type": "code",
   "execution_count": null,
   "metadata": {},
   "outputs": [],
   "source": [
    "fig, ax = plt.subplots(figsize =(10, 7))\n",
    "explode = (0.0, 0.1, 0.2, 0.3, 0.2, 0.0,0.1,\n",
    "           0.0, 0.2, 0.3, 0.0, 0.0,0.1, 0.0,\n",
    "           0.2, 0.3, 0.5, 0.6,0.7, 0.8, 0.9, 1.0)\n",
    "\n",
    "plt.pie(genre_frequncy.values(), labels=genre_frequncy.keys(),\n",
    "        startangle=90, autopct='%.1f%%', colors=plt.cm.Set2.colors,\n",
    "        explode = explode)\n",
    "ax.set_title('Genre count')\n",
    "\n",
    "plt.show();"
   ]
  },
  {
   "cell_type": "markdown",
   "metadata": {},
   "source": [
    "Drama movies had the highest frequency counts and it was the most distributed genre across the combinations."
   ]
  },
  {
   "cell_type": "markdown",
   "metadata": {},
   "source": [
    "#### Which genres have the highest correlation between budget and market success?\n",
    "\n",
    "To find the most expensive movies based on production budget, I sort my production budget in descending order and checked for the top 100."
   ]
  },
  {
   "cell_type": "code",
   "execution_count": null,
   "metadata": {},
   "outputs": [],
   "source": [
    "top_expensive_genre = final_data.sort_values(by=['production_budget'], ascending=False,).head(100)"
   ]
  },
  {
   "cell_type": "code",
   "execution_count": null,
   "metadata": {},
   "outputs": [],
   "source": [
    "genres_in_top_expensive_movies = dict(top_expensive_genre['genres'].str.split(',', expand=True).stack().value_counts())\n",
    "\n",
    "wordcloud = WordCloud(width = 1000, height = 500,\n",
    "                     collocations = False, \n",
    "                      ).generate_from_frequencies(genres_in_top_expensive_movies)\n",
    "\n",
    "plt.figure(figsize=(15,8))\n",
    "plt.imshow(wordcloud);"
   ]
  },
  {
   "cell_type": "markdown",
   "metadata": {},
   "source": [
    "This indicates, top perfoming genres are also the top expensive movies to produce.This means that in  majority of the cases, a larger budget has also resulted in a higher domestic box office gross."
   ]
  },
  {
   "cell_type": "markdown",
   "metadata": {},
   "source": [
    "Since most of the movies in the dataset have multiple Genres, I decided to split each of them to have a count plot and see how they are distributed.\n",
    "From the value counts of the genres, drama had the highest value count while news had the least count."
   ]
  },
  {
   "cell_type": "markdown",
   "metadata": {},
   "source": [
    "### 4.0.3 Runtime Analysis."
   ]
  },
  {
   "cell_type": "code",
   "execution_count": null,
   "metadata": {},
   "outputs": [],
   "source": [
    "fig, ax = plt.subplots(figsize=(12, 8))\n",
    "sns.countplot(data=data['runtime_minutes'], x=data['year'])\n",
    "ax.set_xticklabels(ax.get_xticklabels(), rotation=45, horizontalalignment='right')\n",
    "plt.show()"
   ]
  },
  {
   "cell_type": "markdown",
   "metadata": {},
   "source": [
    "From, this its seen that most movies averaged a runtime of 100 minutes."
   ]
  },
  {
   "cell_type": "code",
   "execution_count": null,
   "metadata": {},
   "outputs": [],
   "source": []
  }
 ],
 "metadata": {
  "kernelspec": {
   "display_name": "Python 3 (ipykernel)",
   "language": "python",
   "name": "python3"
  },
  "language_info": {
   "codemirror_mode": {
    "name": "ipython",
    "version": 3
   },
   "file_extension": ".py",
   "mimetype": "text/x-python",
   "name": "python",
   "nbconvert_exporter": "python",
   "pygments_lexer": "ipython3",
   "version": "3.8.3"
  }
 },
 "nbformat": 4,
 "nbformat_minor": 4
}
